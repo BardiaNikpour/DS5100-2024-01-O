{
 "cells": [
  {
   "cell_type": "markdown",
   "id": "a6368209-a5f5-46fd-8bd4-ac78ec2f3796",
   "metadata": {},
   "source": [
    "#Exercise 7"
   ]
  },
  {
   "cell_type": "code",
   "execution_count": 1,
   "id": "859a8cb3-8296-4c94-8bd0-12e7d0271c22",
   "metadata": {
    "tags": []
   },
   "outputs": [],
   "source": [
    "#Ex 7.1\n",
    "\n",
    "class myClass:\n",
    "   \n",
    "    atti = \"foo\"\n",
    "\n",
    "    def __init__(self, att2: str):\n",
    "        self.att2 = att2\n",
    "\n",
    "    def add(self):\n",
    "        result = self.atti + self.att2\n",
    "        print(result)"
   ]
  },
  {
   "cell_type": "code",
   "execution_count": null,
   "id": "5b20e7f8-b060-4f28-8c0b-85b912e44a27",
   "metadata": {},
   "outputs": [],
   "source": [
    "  #EX 7.2\n",
    "    "
   ]
  },
  {
   "cell_type": "code",
   "execution_count": 8,
   "id": "c3374cff-8902-43fa-a164-fbfa15fe01ed",
   "metadata": {
    "tags": []
   },
   "outputs": [],
   "source": [
    "#Ex 7.3\n",
    "\n",
    "import pandas as pd\n",
    "import matplotlib.pyplot as plt\n",
    "\n",
    "class Student:\n",
    "    def __init__(self, fullName, userid):\n",
    "        self.fullName = fullName\n",
    "        self.userid = userid\n",
    "        self.grades = pd.Series(dtype=float)\n",
    "\n",
    "    def add_assignment_grade(self, assignment, grade):\n",
    "        self.grades[assignment] = grade\n",
    "    def plot_grades(self):\n",
    "        plt.bar(self.grades.index, self.grades.values)\n",
    "        plt.title(f\"Grades for {self.fullName} ({self.userid})\")\n",
    "        plt.xlabel(\"Assignment\")\n",
    "        plt.ylabel(\"Grade\")\n",
    "        plt.xticks(rotation=45)\n",
    "        plt.show()\n"
   ]
  },
  {
   "cell_type": "code",
   "execution_count": 11,
   "id": "7df067c8-b6eb-4f1d-9bd4-35a686eec8b7",
   "metadata": {
    "tags": []
   },
   "outputs": [
    {
     "data": {
      "image/png": "[encoded data removed]",
      "text/plain": [
       "<Figure size 640x480 with 1 Axes>"
      ]
     },
     "metadata": {},
     "output_type": "display_data"
    }
   ],
   "source": [
    "#Ex 7.3a\n",
    "\n",
    "student_instance = Student(\"Bardia Nikpour\", \"ddb4tr\")\n",
    "\n",
    "# Add grades for assignments\n",
    "student_instance.add_assignment_grade(\"HW01\", 89)\n",
    "student_instance.add_assignment_grade(\"HW02\", 97)\n",
    "student_instance.add_assignment_grade(\"HW03\", 91)\n",
    "student_instance.add_assignment_grade(\"HW04\", 81)\n",
    "\n",
    "# Call the method to plot grades\n",
    "student_instance.plot_grades()"
   ]
  },
  {
   "cell_type": "code",
   "execution_count": 12,
   "id": "9493f656-ad24-4669-9c28-44d2ddf5805f",
   "metadata": {
    "tags": []
   },
   "outputs": [],
   "source": [
    "#Ex 7.4\n",
    "\n",
    "class V3:\n",
    "    def __init__(self, instance_size, num_vcpus, memory, disk_space):\n",
    "        self.instance_size = instance_size\n",
    "        self.num_vcpus = num_vcpus\n",
    "        self.memory = memory\n",
    "        self.disk_space = disk_space\n",
    "\n"
   ]
  },
  {
   "cell_type": "code",
   "execution_count": null,
   "id": "e1c59e52-5f44-42b3-8a91-8f879810b628",
   "metadata": {},
   "outputs": [],
   "source": []
  },
  {
   "cell_type": "code",
   "execution_count": null,
   "id": "e8147033-c8de-4006-b974-fe00b95b3043",
   "metadata": {},
   "outputs": [],
   "source": []
  }
 ],
 "metadata": {
  "kernelspec": {
   "display_name": "Python 3 (ipykernel)",
   "language": "python",
   "name": "python3"
  },
  "language_info": {
   "codemirror_mode": {
    "name": "ipython",
    "version": 3
   },
   "file_extension": ".py",
   "mimetype": "text/x-python",
   "name": "python",
   "nbconvert_exporter": "python",
   "pygments_lexer": "ipython3",
   "version": "3.11.4"
  }
 },
 "nbformat": 4,
 "nbformat_minor": 5
}
