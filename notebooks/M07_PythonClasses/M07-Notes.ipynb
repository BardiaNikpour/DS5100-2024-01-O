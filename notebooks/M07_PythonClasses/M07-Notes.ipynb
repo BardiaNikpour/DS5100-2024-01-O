{
 "cells": [
  {
   "cell_type": "markdown",
   "id": "f51bb8a3-c42b-4b20-8cdf-8d68ed8ccb9d",
   "metadata": {},
   "source": [
    "# M07 Notes"
   ]
  },
  {
   "cell_type": "markdown",
   "id": "3940198b-86cc-4f6b-bb6a-baa9c06026d5",
   "metadata": {},
   "source": [
    "# NumPy\n",
    "\n",
    "- **Structured arrays** can store mixed data types.\n",
    "- Use `df.to_numpy()` to convert Pandas dataframes to NumPy data structures."
   ]
  },
  {
   "cell_type": "markdown",
   "id": "97ac6c14-b3d5-4431-a087-ed9c10eba335",
   "metadata": {},
   "source": [
    "Here is an example.\n",
    "\n",
    "We create a list of tuples of mixed data, one tuple per row of data."
   ]
  },
  {
   "cell_type": "code",
   "execution_count": 76,
   "id": "efecdd8a-c2a2-4e87-8541-37e085b3f47d",
   "metadata": {
    "tags": []
   },
   "outputs": [],
   "source": [
    "import numpy as np"
   ]
  },
  {
   "cell_type": "code",
   "execution_count": 78,
   "id": "4b6bfa1d-2385-481d-8388-3cb6a694d487",
   "metadata": {
    "tags": []
   },
   "outputs": [],
   "source": [
    "data = [\n",
    "    ('Alice', 25, 55.0), \n",
    "    ('Bob', 32, 60.5),\n",
    "    ('Sri', 39, 70.)\n",
    "]"
   ]
  },
  {
   "cell_type": "markdown",
   "id": "3461a40e-05a0-43ca-9484-9b8a202c79a5",
   "metadata": {},
   "source": [
    "We also create a list of tuples for each column, specifying name and data type."
   ]
  },
  {
   "cell_type": "code",
   "execution_count": 79,
   "id": "7e6fb55a-51ad-4543-9478-de71e0f9db16",
   "metadata": {
    "tags": []
   },
   "outputs": [],
   "source": [
    "dtypes = [('name', 'U10'), ('age', 'i4'), ('weight', 'f4')]"
   ]
  },
  {
   "cell_type": "markdown",
   "id": "46b22a6d-ee8f-41f8-8eb4-b7b3b82eb9dc",
   "metadata": {},
   "source": [
    "We pass these to the NumPy's array constructor."
   ]
  },
  {
   "cell_type": "code",
   "execution_count": 80,
   "id": "3d72b73c-e31b-43e2-a737-175ba76425c4",
   "metadata": {
    "tags": []
   },
   "outputs": [],
   "source": [
    "people = np.array(data, dtype=dtypes)"
   ]
  },
  {
   "cell_type": "markdown",
   "id": "a2f6ce80-8efc-4423-835d-cebec530ba03",
   "metadata": {},
   "source": [
    "This returns a structured array."
   ]
  },
  {
   "cell_type": "code",
   "execution_count": 81,
   "id": "a83b8b0d-8cca-4070-bd10-0a4e37a35938",
   "metadata": {
    "tags": []
   },
   "outputs": [
    {
     "data": {
      "text/plain": [
       "array([('Alice', 25, 55. ), ('Bob', 32, 60.5), ('Sri', 39, 70. )],\n",
       "      dtype=[('name', '<U10'), ('age', '<i4'), ('weight', '<f4')])"
      ]
     },
     "execution_count": 81,
     "metadata": {},
     "output_type": "execute_result"
    }
   ],
   "source": [
    "people"
   ]
  },
  {
   "cell_type": "markdown",
   "id": "f7531f4a-5ac1-4e60-bec5-cf55fa5b2941",
   "metadata": {},
   "source": [
    "Data may be accessed using column names."
   ]
  },
  {
   "cell_type": "code",
   "execution_count": 82,
   "id": "62e2a3ac-3331-44d9-bba5-dc8b5c9f6485",
   "metadata": {
    "tags": []
   },
   "outputs": [
    {
     "data": {
      "text/plain": [
       "array(['Alice', 'Bob', 'Sri'], dtype='<U10')"
      ]
     },
     "execution_count": 82,
     "metadata": {},
     "output_type": "execute_result"
    }
   ],
   "source": [
    "people['name']"
   ]
  },
  {
   "cell_type": "markdown",
   "id": "3e22737c-f911-41f3-8131-3b0755345eb6",
   "metadata": {},
   "source": [
    "We see that its data type is just an `ndarray`."
   ]
  },
  {
   "cell_type": "code",
   "execution_count": 83,
   "id": "3a43ed36-6408-4eb1-aa98-535ede91c31a",
   "metadata": {
    "tags": []
   },
   "outputs": [
    {
     "data": {
      "text/plain": [
       "numpy.ndarray"
      ]
     },
     "execution_count": 83,
     "metadata": {},
     "output_type": "execute_result"
    }
   ],
   "source": [
    "type(people)"
   ]
  },
  {
   "cell_type": "markdown",
   "id": "905dadea-bdcb-45e7-aa2f-b0cd7f0d3f3e",
   "metadata": {},
   "source": [
    "We an also access the data type list as an attribute of the array."
   ]
  },
  {
   "cell_type": "code",
   "execution_count": 84,
   "id": "33276e16-83bd-42e6-93a0-bf654a423c66",
   "metadata": {
    "tags": []
   },
   "outputs": [
    {
     "data": {
      "text/plain": [
       "dtype([('name', '<U10'), ('age', '<i4'), ('weight', '<f4')])"
      ]
     },
     "execution_count": 84,
     "metadata": {},
     "output_type": "execute_result"
    }
   ],
   "source": [
    "people.dtype"
   ]
  },
  {
   "cell_type": "markdown",
   "id": "804f169f-1245-44d1-a201-ee25a977cb6a",
   "metadata": {},
   "source": [
    "In Pandas, we can convert data back to a NumPy data structure with `df.to_numpy()`.\n",
    "\n",
    "This is preferrable to `df.values()`."
   ]
  },
  {
   "cell_type": "code",
   "execution_count": 85,
   "id": "9773f68a-49eb-4f88-bd87-e8714aa8c148",
   "metadata": {
    "tags": []
   },
   "outputs": [],
   "source": [
    "import pandas as pd"
   ]
  },
  {
   "cell_type": "markdown",
   "id": "8df99875-5bc1-444e-820f-ca8fb336cc72",
   "metadata": {},
   "source": [
    "Here we convert the NumPy array to a Pandas dataframe."
   ]
  },
  {
   "cell_type": "code",
   "execution_count": 86,
   "id": "67f5d9fb-923c-4158-8423-261430716070",
   "metadata": {
    "tags": []
   },
   "outputs": [],
   "source": [
    "df = pd.DataFrame(data)"
   ]
  },
  {
   "cell_type": "code",
   "execution_count": 87,
   "id": "484b734b-10e5-4725-afe9-4edde8f3a720",
   "metadata": {
    "tags": []
   },
   "outputs": [
    {
     "data": {
      "text/html": [
       "<div>\n",
       "<style scoped>\n",
       "    .dataframe tbody tr th:only-of-type {\n",
       "        vertical-align: middle;\n",
       "    }\n",
       "\n",
       "    .dataframe tbody tr th {\n",
       "        vertical-align: top;\n",
       "    }\n",
       "\n",
       "    .dataframe thead th {\n",
       "        text-align: right;\n",
       "    }\n",
       "</style>\n",
       "<table border=\"1\" class=\"dataframe\">\n",
       "  <thead>\n",
       "    <tr style=\"text-align: right;\">\n",
       "      <th></th>\n",
       "      <th>0</th>\n",
       "      <th>1</th>\n",
       "      <th>2</th>\n",
       "    </tr>\n",
       "  </thead>\n",
       "  <tbody>\n",
       "    <tr>\n",
       "      <th>0</th>\n",
       "      <td>Alice</td>\n",
       "      <td>25</td>\n",
       "      <td>55.0</td>\n",
       "    </tr>\n",
       "    <tr>\n",
       "      <th>1</th>\n",
       "      <td>Bob</td>\n",
       "      <td>32</td>\n",
       "      <td>60.5</td>\n",
       "    </tr>\n",
       "    <tr>\n",
       "      <th>2</th>\n",
       "      <td>Sri</td>\n",
       "      <td>39</td>\n",
       "      <td>70.0</td>\n",
       "    </tr>\n",
       "  </tbody>\n",
       "</table>\n",
       "</div>"
      ],
      "text/plain": [
       "       0   1     2\n",
       "0  Alice  25  55.0\n",
       "1    Bob  32  60.5\n",
       "2    Sri  39  70.0"
      ]
     },
     "execution_count": 87,
     "metadata": {},
     "output_type": "execute_result"
    }
   ],
   "source": [
    "df"
   ]
  },
  {
   "cell_type": "markdown",
   "id": "954d351c-bb0a-4723-985c-9dd0f078a054",
   "metadata": {},
   "source": [
    "Then we convert back to a NumPy array ..."
   ]
  },
  {
   "cell_type": "code",
   "execution_count": 88,
   "id": "c4a43bdc-6c91-4f48-ade2-753921c3a4d8",
   "metadata": {
    "tags": []
   },
   "outputs": [],
   "source": [
    "npa = df.to_numpy()"
   ]
  },
  {
   "cell_type": "code",
   "execution_count": 89,
   "id": "b6ca9b70-8924-4882-a0c3-75e654d168f0",
   "metadata": {
    "tags": []
   },
   "outputs": [
    {
     "data": {
      "text/plain": [
       "array([['Alice', 25, 55.0],\n",
       "       ['Bob', 32, 60.5],\n",
       "       ['Sri', 39, 70.0]], dtype=object)"
      ]
     },
     "execution_count": 89,
     "metadata": {},
     "output_type": "execute_result"
    }
   ],
   "source": [
    "npa"
   ]
  },
  {
   "cell_type": "code",
   "execution_count": 90,
   "id": "cf0b3a95-4ec6-42f5-81cf-3861b4ab7e6a",
   "metadata": {
    "tags": []
   },
   "outputs": [
    {
     "data": {
      "text/plain": [
       "numpy.ndarray"
      ]
     },
     "execution_count": 90,
     "metadata": {},
     "output_type": "execute_result"
    }
   ],
   "source": [
    "type(npa)"
   ]
  },
  {
   "cell_type": "markdown",
   "id": "a36318ae-9e38-42c6-9535-9b8a643fa274",
   "metadata": {},
   "source": [
    "Interestingly, the datatype is different.\n",
    "\n",
    "It's now a Python object."
   ]
  },
  {
   "cell_type": "code",
   "execution_count": 91,
   "id": "c77a38ae-fd70-43e9-913b-0e482d998753",
   "metadata": {
    "tags": []
   },
   "outputs": [
    {
     "data": {
      "text/plain": [
       "dtype('O')"
      ]
     },
     "execution_count": 91,
     "metadata": {},
     "output_type": "execute_result"
    }
   ],
   "source": [
    "npa.dtype"
   ]
  },
  {
   "cell_type": "markdown",
   "id": "615c3494-6eb7-4b62-92ed-79f86b4e3877",
   "metadata": {},
   "source": [
    "# Strings Again\n",
    "\n",
    "Actually, you *can* go backwards in a list and string.\n",
    "\n",
    "There are actually three elements to a slice: `[<from>:<to>:<step>]`\n",
    "\n",
    "The third part specifies step and direction. \n",
    "\n",
    "So you can go backwards and take bigger steps:"
   ]
  },
  {
   "cell_type": "code",
   "execution_count": 92,
   "id": "a79a8b9f-79da-41a2-bc2c-8308c11e900b",
   "metadata": {
    "tags": []
   },
   "outputs": [],
   "source": [
    "foo = \"ABCDEFGHIJKLM\" # first 12 letters"
   ]
  },
  {
   "cell_type": "code",
   "execution_count": 93,
   "id": "05d34bc2-7243-44e5-9023-3b9d244a4898",
   "metadata": {
    "tags": []
   },
   "outputs": [
    {
     "data": {
      "text/plain": [
       "('MLKJIHGFEDCBA', 'MKIGECA', 'MJGDA', 'ACEGIKM')"
      ]
     },
     "execution_count": 93,
     "metadata": {},
     "output_type": "execute_result"
    }
   ],
   "source": [
    "foo[::-1], foo[::-2], foo[::-3], foo[::2]"
   ]
  },
  {
   "cell_type": "markdown",
   "id": "90fb382b-b822-4cb8-a325-f88ae756baeb",
   "metadata": {},
   "source": [
    "By default the third part is `+1`."
   ]
  },
  {
   "cell_type": "code",
   "execution_count": 94,
   "id": "6d473569-2969-425a-8a00-66519add9139",
   "metadata": {
    "tags": []
   },
   "outputs": [
    {
     "data": {
      "text/plain": [
       "'ABCDEFGHIJKLM'"
      ]
     },
     "execution_count": 94,
     "metadata": {},
     "output_type": "execute_result"
    }
   ],
   "source": [
    "foo[::]"
   ]
  },
  {
   "cell_type": "markdown",
   "id": "09aa5181-faf4-4abb-88ff-2f60092d8859",
   "metadata": {},
   "source": [
    "Of cousre, by default you don't need to specify the second `:`. \n",
    "\n",
    "Also, `<from>` defaults to $0$ and `<to>` defaults to the length of the list.\n",
    "\n",
    "So, these are all the same:"
   ]
  },
  {
   "cell_type": "code",
   "execution_count": 95,
   "id": "eddeae87-6c8f-4182-ac3c-97497d30936e",
   "metadata": {
    "tags": []
   },
   "outputs": [
    {
     "data": {
      "text/plain": [
       "('ABCDEFGHIJKLM', 'ABCDEFGHIJKLM', 'ABCDEFGHIJKLM', 'ABCDEFGHIJKLM')"
      ]
     },
     "execution_count": 95,
     "metadata": {},
     "output_type": "execute_result"
    }
   ],
   "source": [
    "foo[:], foo[0:], foo[:len(foo)], foo[0:len(foo)]"
   ]
  },
  {
   "cell_type": "markdown",
   "id": "14136854-4b47-4047-a50e-e739d6c4bce6",
   "metadata": {},
   "source": [
    "# Lutz\n",
    "\n",
    "Why use classes?\n",
    "\n",
    "> Because using classes well requires some up-front planning, they tend to be of more interest to people who work in strategic mode (doing long-term product development) than to people who work in tactical mode (where time is in very short supply).\n",
    "\n",
    "Introduces principle of composition: Use objects as components that are combined to create a solution.\n",
    "\n",
    "Lutz foregrounds inheritance, but I consider the ideas of encapsulation and composition (above) as primary."
   ]
  },
  {
   "cell_type": "code",
   "execution_count": null,
   "id": "ec055bc4-5784-430e-8c73-d881b330ae34",
   "metadata": {},
   "outputs": [],
   "source": []
  }
 ],
 "metadata": {
  "kernelspec": {
   "display_name": "Python 3 (ipykernel)",
   "language": "python",
   "name": "python3"
  },
  "language_info": {
   "codemirror_mode": {
    "name": "ipython",
    "version": 3
   },
   "file_extension": ".py",
   "mimetype": "text/x-python",
   "name": "python",
   "nbconvert_exporter": "python",
   "pygments_lexer": "ipython3",
   "version": "3.11.4"
  }
 },
 "nbformat": 4,
 "nbformat_minor": 5
}
