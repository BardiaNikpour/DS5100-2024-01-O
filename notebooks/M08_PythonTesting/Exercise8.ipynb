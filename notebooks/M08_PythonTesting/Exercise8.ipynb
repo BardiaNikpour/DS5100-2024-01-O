{
 "cells": [
  {
   "cell_type": "markdown",
   "id": "068017b3-0c49-4194-b04b-88b3eec7e1ce",
   "metadata": {},
   "source": [
    "###Exercise 8"
   ]
  },
  {
   "cell_type": "code",
   "execution_count": null,
   "id": "8f81745f-08f3-41ff-8527-9c51ed59492f",
   "metadata": {},
   "outputs": [],
   "source": [
    "#Ex 8.1\n",
    "\n",
    "try:\n",
    "    dividend = 10\n",
    "    divisor = 0\n",
    "    result = dividend / divisor\n",
    "    print(\"Result of division:\", result)\n",
    "except ZeroDivisionError:\n",
    "    print(\"Error: Division by zero is not allowed.\")"
   ]
  },
  {
   "cell_type": "code",
   "execution_count": 1,
   "id": "0dd8c29a-5292-4c86-9041-6e0918a40372",
   "metadata": {
    "tags": []
   },
   "outputs": [
    {
     "ename": "NameError",
     "evalue": "name 'expression_true' is not defined",
     "output_type": "error",
     "traceback": [
      "\u001b[0;31m---------------------------------------------------------------------------\u001b[0m",
      "\u001b[0;31mNameError\u001b[0m                                 Traceback (most recent call last)",
      "Cell \u001b[0;32mIn[1], line 5\u001b[0m\n\u001b[1;32m      1\u001b[0m \u001b[38;5;66;03m#Ex 8.2\u001b[39;00m\n\u001b[1;32m      3\u001b[0m expression_false \u001b[38;5;241m=\u001b[39m (\u001b[38;5;241m5\u001b[39m \u001b[38;5;241m*\u001b[39m \u001b[38;5;241m2\u001b[39m \u001b[38;5;241m==\u001b[39m \u001b[38;5;241m11\u001b[39m)\n\u001b[0;32m----> 5\u001b[0m \u001b[38;5;28;01massert\u001b[39;00m \u001b[43mexpression_true\u001b[49m \u001b[38;5;241m==\u001b[39m \u001b[38;5;28;01mTrue\u001b[39;00m, \u001b[38;5;124m\"\u001b[39m\u001b[38;5;124mExpression evaluating to True failed\u001b[39m\u001b[38;5;124m\"\u001b[39m\n\u001b[1;32m      6\u001b[0m \u001b[38;5;28;01massert\u001b[39;00m expression_false \u001b[38;5;241m==\u001b[39m \u001b[38;5;28;01mFalse\u001b[39;00m, \u001b[38;5;124m\"\u001b[39m\u001b[38;5;124mExpression evaluating to False failed\u001b[39m\u001b[38;5;124m\"\u001b[39m\n\u001b[1;32m      8\u001b[0m \u001b[38;5;28mprint\u001b[39m(\u001b[38;5;124m\"\u001b[39m\u001b[38;5;124mBoth assertions passed successfully!\u001b[39m\u001b[38;5;124m\"\u001b[39m)\n",
      "\u001b[0;31mNameError\u001b[0m: name 'expression_true' is not defined"
     ]
    }
   ],
   "source": [
    "#Ex 8.2\n",
    "\n",
    "expression_false = (5 * 2 == 11)\n",
    "\n",
    "assert expressionTrue == True, \"Expression evaluating to True failed\"\n",
    "assert expressionFalse == False, \"Expression evaluating to False failed\"\n",
    "\n",
    "print(\"Both assertions passed successfully!\")"
   ]
  },
  {
   "cell_type": "code",
   "execution_count": 2,
   "id": "112d0e4b-9219-41ca-b89a-398671874f0b",
   "metadata": {
    "tags": []
   },
   "outputs": [
    {
     "name": "stdout",
     "output_type": "stream",
     "text": [
      "All tests passed successfully!\n"
     ]
    }
   ],
   "source": [
    "#Ex 8.3\n",
    "import math\n",
    "\n",
    "def area(radius):\n",
    "    return math.pi * radius**2\n",
    "\n",
    "\n",
    "assert isinstance(area(1), float), \"Test 1 failed!\"\n",
    "assert area(0) == 0, \"Test 2 failed: Expected 0\"\n",
    "assert math.isclose(area(5), 78.5, abs_tol=0.1), \"Test 3 failed!\"\n",
    "\n",
    "print(\"All tests passed successfully!\")"
   ]
  },
  {
   "cell_type": "code",
   "execution_count": null,
   "id": "135abee3-d571-40b3-a260-a1f28e2ce7d2",
   "metadata": {},
   "outputs": [],
   "source": [
    "#Ex 8.4\n"
   ]
  }
 ],
 "metadata": {
  "kernelspec": {
   "display_name": "Python 3 (ipykernel)",
   "language": "python",
   "name": "python3"
  },
  "language_info": {
   "codemirror_mode": {
    "name": "ipython",
    "version": 3
   },
   "file_extension": ".py",
   "mimetype": "text/x-python",
   "name": "python",
   "nbconvert_exporter": "python",
   "pygments_lexer": "ipython3",
   "version": "3.11.4"
  }
 },
 "nbformat": 4,
 "nbformat_minor": 5
}
