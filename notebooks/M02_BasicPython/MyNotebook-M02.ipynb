{
 "cells": [
  {
   "cell_type": "code",
   "execution_count": null,
   "id": "14fd7a1a-f2f0-42a2-a14f-dcc73936a433",
   "metadata": {},
   "outputs": [],
   "source": [
    "MyNotebook-M02"
   ]
  },
  {
   "cell_type": "markdown",
   "id": "b2a438cb-bd40-464d-b1a8-d99f5ae0fb17",
   "metadata": {},
   "source": [
    "Exercise 2.1\n",
    "\n",
    "print(string[:3])\n",
    "print(string[-3\"])"
   ]
  },
  {
   "cell_type": "code",
   "execution_count": null,
   "id": "624810ee-636b-4797-bd34-220c08fffe32",
   "metadata": {},
   "outputs": [],
   "source": [
    "Exercise 2.2\n",
    "\n"
   ]
  },
  {
   "cell_type": "code",
   "execution_count": null,
   "id": "13866dbb-e96b-4399-b319-fdd53f5ec889",
   "metadata": {},
   "outputs": [],
   "source": [
    "Exercise 2.3\n",
    "\n",
    "tupleList = 1, 2, 3 "
   ]
  },
  {
   "cell_type": "code",
   "execution_count": null,
   "id": "9d82b743-559a-409e-8897-3b9184356072",
   "metadata": {},
   "outputs": [],
   "source": [
    "Exercise 2.4"
   ]
  }
 ],
 "metadata": {
  "kernelspec": {
   "display_name": "Python 3 (ipykernel)",
   "language": "python",
   "name": "python3"
  },
  "language_info": {
   "codemirror_mode": {
    "name": "ipython",
    "version": 3
   },
   "file_extension": ".py",
   "mimetype": "text/x-python",
   "name": "python",
   "nbconvert_exporter": "python",
   "pygments_lexer": "ipython3",
   "version": "3.11.4"
  }
 },
 "nbformat": 4,
 "nbformat_minor": 5
}
